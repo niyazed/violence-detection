{
 "cells": [
  {
   "cell_type": "code",
   "execution_count": 14,
   "metadata": {},
   "outputs": [],
   "source": [
    "from keras.layers import Input, Dense, Conv2D, MaxPooling2D, UpSampling2D\n",
    "from keras.models import Model\n",
    "from keras import backend as K\n",
    "from keras.datasets import mnist\n",
    "import numpy as np\n",
    "from keras.callbacks import TensorBoard"
   ]
  },
  {
   "cell_type": "code",
   "execution_count": 47,
   "metadata": {},
   "outputs": [],
   "source": [
    "labels=['violent','non_violent']\n",
    "\n",
    "X_train = np.load('/media/raihan/work/Projects/499/violence-detection/30x30_10FPS/train/'+labels[0] + '.npy')\n",
    "y_train = np.zeros(X_train.shape[0])\n",
    "\n",
    "for i, label in enumerate(labels[1:]):\n",
    "    x = np.load('/media/raihan/work/Projects/499/violence-detection/30x30_10FPS/train/'+label + '.npy')\n",
    "    X_train = np.vstack((X_train, x))\n",
    "    y_train = np.append(y_train, np.full(x.shape[0], fill_value= (i + 1)))"
   ]
  },
  {
   "cell_type": "code",
   "execution_count": 50,
   "metadata": {},
   "outputs": [],
   "source": [
    "X_test = np.load('/media/raihan/work/Projects/499/violence-detection/30x30_10FPS/test/'+labels[0] + '.npy')\n",
    "y_test = np.zeros(X_test.shape[0])\n",
    "\n",
    "for i, label in enumerate(labels[1:]):\n",
    "    x = np.load('/media/raihan/work/Projects/499/violence-detection/30x30_10FPS/test/'+label + '.npy')\n",
    "    X_test = np.vstack((X_test, x))\n",
    "    y_test = np.append(y_test, np.full(x.shape[0], fill_value= (i + 1)))"
   ]
  },
  {
   "cell_type": "code",
   "execution_count": 59,
   "metadata": {},
   "outputs": [],
   "source": [
    "x_train = X_train.astype('float32') / 255.\n",
    "x_test = X_test.astype('float32') / 255.\n",
    "x_train = np.reshape(x_train, (len(x_train), 30, 30, 1))\n",
    "x_test = np.reshape(x_test, (len(x_test), 30, 30, 1))"
   ]
  },
  {
   "cell_type": "code",
   "execution_count": 82,
   "metadata": {},
   "outputs": [],
   "source": [
    "input_img = Input(shape=(30,30,1))\n",
    "\n",
    "x = Conv2D(32, (2,2), activation='relu', padding='same')(input_img)\n",
    "x = MaxPooling2D((2,2), padding='same')(x)\n",
    "x = Conv2D(16, (2,2), activation='relu', padding='same')(x)\n",
    "x = MaxPooling2D((2,2), padding='same')(x)\n",
    "x = Conv2D(8, (2,2), activation='relu', padding='same')(x)\n",
    "encoded = MaxPooling2D((2,2), padding='same')(x)\n",
    "\n",
    "x = Conv2D(8, (2,2), activation='relu',padding='same')(encoded)\n",
    "x = UpSampling2D((2,2))(x)\n",
    "x = Conv2D(16, (2,2), activation='relu', padding='same')(x)\n",
    "x = UpSampling2D((2,2))(x)\n",
    "x = Conv2D(32, (2,2), activation='relu')(x)\n",
    "x = UpSampling2D((2,2))(x)\n",
    "decoded = Conv2D(1, (2,2), activation='sigmoid', padding='same')(x)"
   ]
  },
  {
   "cell_type": "code",
   "execution_count": 90,
   "metadata": {},
   "outputs": [
    {
     "name": "stdout",
     "output_type": "stream",
     "text": [
      "_________________________________________________________________\n",
      "Layer (type)                 Output Shape              Param #   \n",
      "=================================================================\n",
      "input_21 (InputLayer)        (None, 30, 30, 1)         0         \n",
      "_________________________________________________________________\n",
      "conv2d_134 (Conv2D)          (None, 30, 30, 32)        160       \n",
      "_________________________________________________________________\n",
      "max_pooling2d_61 (MaxPooling (None, 15, 15, 32)        0         \n",
      "_________________________________________________________________\n",
      "conv2d_135 (Conv2D)          (None, 15, 15, 16)        2064      \n",
      "_________________________________________________________________\n",
      "max_pooling2d_62 (MaxPooling (None, 8, 8, 16)          0         \n",
      "_________________________________________________________________\n",
      "conv2d_136 (Conv2D)          (None, 8, 8, 8)           520       \n",
      "_________________________________________________________________\n",
      "max_pooling2d_63 (MaxPooling (None, 4, 4, 8)           0         \n",
      "_________________________________________________________________\n",
      "conv2d_137 (Conv2D)          (None, 4, 4, 8)           264       \n",
      "_________________________________________________________________\n",
      "up_sampling2d_55 (UpSampling (None, 8, 8, 8)           0         \n",
      "_________________________________________________________________\n",
      "conv2d_138 (Conv2D)          (None, 8, 8, 16)          528       \n",
      "_________________________________________________________________\n",
      "up_sampling2d_56 (UpSampling (None, 16, 16, 16)        0         \n",
      "_________________________________________________________________\n",
      "conv2d_139 (Conv2D)          (None, 15, 15, 32)        2080      \n",
      "_________________________________________________________________\n",
      "up_sampling2d_57 (UpSampling (None, 30, 30, 32)        0         \n",
      "_________________________________________________________________\n",
      "conv2d_140 (Conv2D)          (None, 30, 30, 1)         129       \n",
      "=================================================================\n",
      "Total params: 5,745\n",
      "Trainable params: 5,745\n",
      "Non-trainable params: 0\n",
      "_________________________________________________________________\n"
     ]
    }
   ],
   "source": [
    "autoencoder = Model(input_img, decoded)\n",
    "autoencoder.summary()\n",
    "autoencoder.compile(optimizer='adadelta', loss='binary_crossentropy', metrics=['accuracy'])"
   ]
  },
  {
   "cell_type": "code",
   "execution_count": 97,
   "metadata": {},
   "outputs": [
    {
     "name": "stdout",
     "output_type": "stream",
     "text": [
      "Train on 26745 samples, validate on 3924 samples\n",
      "Epoch 1/50\n",
      "26745/26745 [==============================] - 38s 1ms/step - loss: 0.5428 - acc: 0.0960 - val_loss: 0.6019 - val_acc: 0.0388\n",
      "Epoch 2/50\n",
      "26745/26745 [==============================] - 42s 2ms/step - loss: 0.5423 - acc: 0.0961 - val_loss: 0.6001 - val_acc: 0.0386\n",
      "Epoch 3/50\n",
      "26745/26745 [==============================] - 42s 2ms/step - loss: 0.5421 - acc: 0.0961 - val_loss: 0.5994 - val_acc: 0.0388\n",
      "Epoch 4/50\n",
      "26745/26745 [==============================] - 41s 2ms/step - loss: 0.5418 - acc: 0.0961 - val_loss: 0.6011 - val_acc: 0.0386\n",
      "Epoch 5/50\n",
      "26745/26745 [==============================] - 40s 2ms/step - loss: 0.5414 - acc: 0.0961 - val_loss: 0.5989 - val_acc: 0.0388\n",
      "Epoch 6/50\n",
      "26745/26745 [==============================] - 41s 2ms/step - loss: 0.5408 - acc: 0.0962 - val_loss: 0.5997 - val_acc: 0.0387\n",
      "Epoch 7/50\n",
      "26745/26745 [==============================] - 40s 1ms/step - loss: 0.5407 - acc: 0.0962 - val_loss: 0.5988 - val_acc: 0.0388\n",
      "Epoch 8/50\n",
      "26745/26745 [==============================] - 41s 2ms/step - loss: 0.5404 - acc: 0.0962 - val_loss: 0.5993 - val_acc: 0.0387\n",
      "Epoch 9/50\n",
      "26745/26745 [==============================] - 40s 1ms/step - loss: 0.5398 - acc: 0.0963 - val_loss: 0.5992 - val_acc: 0.0388\n",
      "Epoch 10/50\n",
      "26745/26745 [==============================] - 41s 2ms/step - loss: 0.5398 - acc: 0.0963 - val_loss: 0.5992 - val_acc: 0.0387\n",
      "Epoch 11/50\n",
      "26745/26745 [==============================] - 41s 2ms/step - loss: 0.5393 - acc: 0.0963 - val_loss: 0.5983 - val_acc: 0.0388\n",
      "Epoch 12/50\n",
      "26745/26745 [==============================] - 40s 2ms/step - loss: 0.5391 - acc: 0.0963 - val_loss: 0.5991 - val_acc: 0.0387\n",
      "Epoch 13/50\n",
      "26745/26745 [==============================] - 40s 1ms/step - loss: 0.5390 - acc: 0.0963 - val_loss: 0.5970 - val_acc: 0.0388\n",
      "Epoch 14/50\n",
      "26745/26745 [==============================] - 40s 1ms/step - loss: 0.5384 - acc: 0.0963 - val_loss: 0.5990 - val_acc: 0.0387\n",
      "Epoch 15/50\n",
      "26745/26745 [==============================] - 39s 1ms/step - loss: 0.5382 - acc: 0.0963 - val_loss: 0.5971 - val_acc: 0.0388\n",
      "Epoch 16/50\n",
      "26745/26745 [==============================] - 41s 2ms/step - loss: 0.5380 - acc: 0.0963 - val_loss: 0.5979 - val_acc: 0.0387\n",
      "Epoch 17/50\n",
      "26745/26745 [==============================] - 40s 1ms/step - loss: 0.5379 - acc: 0.0963 - val_loss: 0.5982 - val_acc: 0.0388\n",
      "Epoch 18/50\n",
      "26745/26745 [==============================] - 39s 1ms/step - loss: 0.5377 - acc: 0.0963 - val_loss: 0.5975 - val_acc: 0.0387\n",
      "Epoch 19/50\n",
      "26745/26745 [==============================] - 39s 1ms/step - loss: 0.5375 - acc: 0.0963 - val_loss: 0.5981 - val_acc: 0.0388\n",
      "Epoch 20/50\n",
      "26745/26745 [==============================] - 39s 1ms/step - loss: 0.5374 - acc: 0.0963 - val_loss: 0.5971 - val_acc: 0.0387\n",
      "Epoch 21/50\n",
      "26745/26745 [==============================] - 39s 1ms/step - loss: 0.5372 - acc: 0.0963 - val_loss: 0.5977 - val_acc: 0.0389\n",
      "Epoch 22/50\n",
      "26745/26745 [==============================] - 41s 2ms/step - loss: 0.5371 - acc: 0.0963 - val_loss: 0.5973 - val_acc: 0.0387\n",
      "Epoch 23/50\n",
      "26745/26745 [==============================] - 40s 1ms/step - loss: 0.5369 - acc: 0.0963 - val_loss: 0.5982 - val_acc: 0.0389\n",
      "Epoch 24/50\n",
      "26745/26745 [==============================] - 40s 1ms/step - loss: 0.5366 - acc: 0.0963 - val_loss: 0.5973 - val_acc: 0.0387\n",
      "Epoch 25/50\n",
      "26745/26745 [==============================] - 39s 1ms/step - loss: 0.5365 - acc: 0.0963 - val_loss: 0.5964 - val_acc: 0.0388\n",
      "Epoch 26/50\n",
      "26745/26745 [==============================] - 40s 1ms/step - loss: 0.5364 - acc: 0.0963 - val_loss: 0.5969 - val_acc: 0.0387\n",
      "Epoch 27/50\n",
      "26745/26745 [==============================] - 39s 1ms/step - loss: 0.5363 - acc: 0.0963 - val_loss: 0.5957 - val_acc: 0.0388\n",
      "Epoch 28/50\n",
      "26745/26745 [==============================] - 40s 1ms/step - loss: 0.5360 - acc: 0.0963 - val_loss: 0.5977 - val_acc: 0.0387\n",
      "Epoch 29/50\n",
      "26745/26745 [==============================] - 40s 1ms/step - loss: 0.5360 - acc: 0.0963 - val_loss: 0.5966 - val_acc: 0.0389\n",
      "Epoch 30/50\n",
      "26745/26745 [==============================] - 39s 1ms/step - loss: 0.5358 - acc: 0.0963 - val_loss: 0.5971 - val_acc: 0.0387\n",
      "Epoch 31/50\n",
      "26745/26745 [==============================] - 39s 1ms/step - loss: 0.5357 - acc: 0.0963 - val_loss: 0.5978 - val_acc: 0.0389\n",
      "Epoch 32/50\n",
      "26745/26745 [==============================] - 39s 1ms/step - loss: 0.5357 - acc: 0.0963 - val_loss: 0.5969 - val_acc: 0.0387\n",
      "Epoch 33/50\n",
      "26745/26745 [==============================] - 39s 1ms/step - loss: 0.5355 - acc: 0.0963 - val_loss: 0.5968 - val_acc: 0.0389\n",
      "Epoch 34/50\n",
      "26745/26745 [==============================] - 39s 1ms/step - loss: 0.5354 - acc: 0.0964 - val_loss: 0.5961 - val_acc: 0.0387\n",
      "Epoch 35/50\n",
      "26745/26745 [==============================] - 39s 1ms/step - loss: 0.5353 - acc: 0.0964 - val_loss: 0.5969 - val_acc: 0.0389\n",
      "Epoch 36/50\n",
      "26745/26745 [==============================] - 39s 1ms/step - loss: 0.5350 - acc: 0.0964 - val_loss: 0.5970 - val_acc: 0.0387\n",
      "Epoch 37/50\n",
      "26745/26745 [==============================] - 40s 1ms/step - loss: 0.5348 - acc: 0.0964 - val_loss: 0.5953 - val_acc: 0.0388\n",
      "Epoch 38/50\n",
      "26745/26745 [==============================] - 39s 1ms/step - loss: 0.5349 - acc: 0.0964 - val_loss: 0.5963 - val_acc: 0.0388\n",
      "Epoch 39/50\n",
      "26745/26745 [==============================] - 40s 1ms/step - loss: 0.5347 - acc: 0.0964 - val_loss: 0.5968 - val_acc: 0.0389\n",
      "Epoch 40/50\n",
      "26745/26745 [==============================] - 40s 1ms/step - loss: 0.5346 - acc: 0.0964 - val_loss: 0.5950 - val_acc: 0.0388\n",
      "Epoch 41/50\n",
      "26745/26745 [==============================] - 39s 1ms/step - loss: 0.5345 - acc: 0.0964 - val_loss: 0.5961 - val_acc: 0.0389\n",
      "Epoch 42/50\n",
      "26745/26745 [==============================] - 39s 1ms/step - loss: 0.5344 - acc: 0.0964 - val_loss: 0.5954 - val_acc: 0.0388\n",
      "Epoch 43/50\n",
      "26745/26745 [==============================] - 40s 2ms/step - loss: 0.5342 - acc: 0.0964 - val_loss: 0.5955 - val_acc: 0.0389\n",
      "Epoch 44/50\n",
      "26745/26745 [==============================] - 39s 1ms/step - loss: 0.5341 - acc: 0.0964 - val_loss: 0.5960 - val_acc: 0.0388\n",
      "Epoch 45/50\n",
      "26745/26745 [==============================] - 40s 2ms/step - loss: 0.5340 - acc: 0.0964 - val_loss: 0.5963 - val_acc: 0.0389\n",
      "Epoch 46/50\n",
      "26745/26745 [==============================] - 40s 1ms/step - loss: 0.5340 - acc: 0.0964 - val_loss: 0.5965 - val_acc: 0.0388\n",
      "Epoch 47/50\n",
      "26745/26745 [==============================] - 41s 2ms/step - loss: 0.5338 - acc: 0.0964 - val_loss: 0.5949 - val_acc: 0.0389\n",
      "Epoch 48/50\n",
      "26745/26745 [==============================] - 39s 1ms/step - loss: 0.5338 - acc: 0.0964 - val_loss: 0.5947 - val_acc: 0.0388\n",
      "Epoch 49/50\n",
      "26745/26745 [==============================] - 40s 1ms/step - loss: 0.5336 - acc: 0.0964 - val_loss: 0.5955 - val_acc: 0.0389\n",
      "Epoch 50/50\n",
      "26745/26745 [==============================] - 42s 2ms/step - loss: 0.5335 - acc: 0.0964 - val_loss: 0.5957 - val_acc: 0.0388\n"
     ]
    },
    {
     "data": {
      "text/plain": [
       "<keras.callbacks.History at 0x7fe767c90400>"
      ]
     },
     "execution_count": 97,
     "metadata": {},
     "output_type": "execute_result"
    }
   ],
   "source": [
    "autoencoder.fit(x_train,x_train,\n",
    "                epochs = 50,\n",
    "                batch_size = 128,\n",
    "                shuffle=True,\n",
    "                validation_data = (x_test,x_test),\n",
    "                callbacks=[TensorBoard(log_dir='/tmp/autoencoder')],\n",
    "                verbose=1)"
   ]
  },
  {
   "cell_type": "code",
   "execution_count": null,
   "metadata": {},
   "outputs": [],
   "source": []
  },
  {
   "cell_type": "code",
   "execution_count": null,
   "metadata": {},
   "outputs": [],
   "source": []
  }
 ],
 "metadata": {
  "kernelspec": {
   "display_name": "Python 3",
   "language": "python",
   "name": "python3"
  },
  "language_info": {
   "codemirror_mode": {
    "name": "ipython",
    "version": 3
   },
   "file_extension": ".py",
   "mimetype": "text/x-python",
   "name": "python",
   "nbconvert_exporter": "python",
   "pygments_lexer": "ipython3",
   "version": "3.6.7"
  }
 },
 "nbformat": 4,
 "nbformat_minor": 2
}
